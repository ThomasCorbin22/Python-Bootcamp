{
 "cells": [
  {
   "cell_type": "code",
   "execution_count": 1,
   "metadata": {},
   "outputs": [
    {
     "name": "stdout",
     "output_type": "stream",
     "text": [
      "O|O|O\n",
      "X|X|-\n",
      "-|-|-\n",
      "Player 1 has won the game!\n",
      "Do you want to play again? (Y/N)N\n",
      "Thank you for playing!\n"
     ]
    }
   ],
   "source": [
    "from IPython.display import clear_output\n",
    "\n",
    "board = ['#','-', '-', '-', '-', '-', '-', '-', '-', '-']\n",
    "marker = 'O'\n",
    "player = 'Player 1'\n",
    "\n",
    "def space_check(board, position):\n",
    "    return board[position] == '-'\n",
    "\n",
    "def player_input():\n",
    "    global marker\n",
    "    if marker == 'O':\n",
    "        marker = 'X'\n",
    "    else:\n",
    "        marker = 'O'\n",
    "    while True:\n",
    "        position = int(raw_input('Choose a space between 1 and 9: '))\n",
    "        if 0 < position < 10 and space_check(board, position) == True:\n",
    "            return position\n",
    "            break\n",
    "        else:\n",
    "            print \"Please select values between 1 and 9, as well as a free space. It is still %s's Turn\" % player\n",
    "    \n",
    "def display_board(board):\n",
    "    clear_output()\n",
    "    print(board[1]+'|'+board[2]+'|'+board[3])\n",
    "    print(board[4]+'|'+board[5]+'|'+board[6])\n",
    "    print(board[7]+'|'+board[8]+'|'+board[9])\n",
    "    \n",
    "def place_marker(board, marker, position):\n",
    "    board[position] = marker\n",
    "\n",
    "def win_check(board, marker):\n",
    "    #Check for horizontal lines.\n",
    "    if board[1] == board[2] == board[3] == marker or board[4] == board[5] == board[6] == marker or board[7] == board[8] == board[9] == marker:\n",
    "        return True\n",
    "    #Check for vertical lines.\n",
    "    elif board[1] == board[4] == board[7] == marker or board[2] == board[5] == board[8] == marker or board[3] == board[6] == board[9] == marker:\n",
    "        return True\n",
    "    #Check for diagonal lines.\n",
    "    elif board[1] == board[5] == board[9] == marker or board[3] == board[5] == board[9] == marker:\n",
    "        return True\n",
    "    else:\n",
    "        return False\n",
    "\n",
    "import random\n",
    "def choose_first():\n",
    "    global player\n",
    "    if random.randint(0,1) == True:\n",
    "        print 'Player 1 goes first.'\n",
    "        player = 'Player 2'\n",
    "    else:\n",
    "        global marker\n",
    "        marker = 'X'\n",
    "        player = 'Player 1'\n",
    "        print 'Player 2 goes first.'\n",
    "    \n",
    "def full_board_check(board):\n",
    "    #Check if the board is full.\n",
    "    if '-' in board:\n",
    "        return False\n",
    "    else:\n",
    "        return True\n",
    "\n",
    "def player_choice(board):\n",
    "    if space_check[player_input()] == True:\n",
    "        return player_input()\n",
    "\n",
    "def replay():\n",
    "    global board\n",
    "    while True:\n",
    "        a = raw_input('Do you want to play again? (Y/N)').upper()\n",
    "        if a == 'Y':\n",
    "            clear_output()\n",
    "            board = ['#','-', '-', '-', '-', '-', '-', '-', '-', '-']\n",
    "            return True\n",
    "            break\n",
    "        elif a == 'N':\n",
    "            return False\n",
    "            break\n",
    "        else:\n",
    "            print 'Please type either Y or N.'\n",
    "\n",
    "def player_turn(board, marker):\n",
    "    global player\n",
    "    if player == 'Player 1':\n",
    "        player = 'Player 2'\n",
    "    else:\n",
    "        player = 'Player 1'\n",
    "    print \"It is %s's Turn\" % player\n",
    "    position = player_input()\n",
    "    place_marker(board, marker, position)\n",
    "    display_board(board)\n",
    "    if win_check(board, marker) == True:\n",
    "        print '%s has won the game!' % player\n",
    "        return False\n",
    "    elif full_board_check(board) == True:\n",
    "        print 'The game is a draw.'\n",
    "        return False\n",
    "    else:\n",
    "        print 'Continuing to next turn...'\n",
    "        return True\n",
    "\n",
    "print('Welcome to Tic Tac Toe!')\n",
    "\n",
    "while True:\n",
    "    global player\n",
    "    display_board(board)\n",
    "    player_first = choose_first()\n",
    "    \n",
    "    while player_turn(board, marker) == True:\n",
    "        player_turn(board, marker)\n",
    "            \n",
    "    if not replay():\n",
    "        print 'Thank you for playing!'\n",
    "        break\n"
   ]
  },
  {
   "cell_type": "code",
   "execution_count": null,
   "metadata": {
    "collapsed": true
   },
   "outputs": [],
   "source": []
  },
  {
   "cell_type": "code",
   "execution_count": null,
   "metadata": {
    "collapsed": true
   },
   "outputs": [],
   "source": []
  },
  {
   "cell_type": "code",
   "execution_count": null,
   "metadata": {
    "collapsed": true
   },
   "outputs": [],
   "source": []
  },
  {
   "cell_type": "code",
   "execution_count": null,
   "metadata": {
    "collapsed": true
   },
   "outputs": [],
   "source": []
  },
  {
   "cell_type": "code",
   "execution_count": null,
   "metadata": {
    "collapsed": true
   },
   "outputs": [],
   "source": []
  }
 ],
 "metadata": {
  "kernelspec": {
   "display_name": "Python 2",
   "language": "python",
   "name": "python2"
  },
  "language_info": {
   "codemirror_mode": {
    "name": "ipython",
    "version": 2
   },
   "file_extension": ".py",
   "mimetype": "text/x-python",
   "name": "python",
   "nbconvert_exporter": "python",
   "pygments_lexer": "ipython2",
   "version": "2.7.14"
  }
 },
 "nbformat": 4,
 "nbformat_minor": 2
}
